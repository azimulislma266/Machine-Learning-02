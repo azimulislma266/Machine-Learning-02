{
 "cells": [
  {
   "cell_type": "code",
   "execution_count": 5,
   "id": "3ba65ea7",
   "metadata": {},
   "outputs": [],
   "source": [
    "import pandas as pd"
   ]
  },
  {
   "cell_type": "code",
   "execution_count": 6,
   "id": "8af241cb",
   "metadata": {},
   "outputs": [],
   "source": [
    "df = pd.read_csv('agora.csv')\n",
    "df.head()\n",
    "\n",
    "ds = pd.read_csv('agora.csv')"
   ]
  },
  {
   "cell_type": "code",
   "execution_count": 7,
   "id": "f4e22944",
   "metadata": {},
   "outputs": [
    {
     "data": {
      "text/plain": [
       "(50, 5)"
      ]
     },
     "execution_count": 7,
     "metadata": {},
     "output_type": "execute_result"
    }
   ],
   "source": [
    "df.shape"
   ]
  },
  {
   "cell_type": "markdown",
   "id": "46b90c83",
   "metadata": {},
   "source": [
    "# Feature Transformation"
   ]
  },
  {
   "cell_type": "markdown",
   "id": "e91cbf31",
   "metadata": {},
   "source": [
    "# Normalization / Min Max Scaler"
   ]
  },
  {
   "cell_type": "code",
   "execution_count": 8,
   "id": "2a71b4d3",
   "metadata": {},
   "outputs": [],
   "source": [
    "from sklearn.preprocessing import MinMaxScaler"
   ]
  },
  {
   "cell_type": "code",
   "execution_count": 9,
   "id": "bfcc9a20",
   "metadata": {},
   "outputs": [
    {
     "data": {
      "text/plain": [
       "MinMaxScaler(feature_range=(5, 10))"
      ]
     },
     "execution_count": 9,
     "metadata": {},
     "output_type": "execute_result"
    }
   ],
   "source": [
    "m = MinMaxScaler(feature_range=(5,10))\n",
    "m"
   ]
  },
  {
   "cell_type": "code",
   "execution_count": 10,
   "id": "2d775815",
   "metadata": {},
   "outputs": [],
   "source": [
    "marketing_spend_fit = m.fit(df[['Marketing Spend']]) #fit means training"
   ]
  },
  {
   "cell_type": "code",
   "execution_count": 11,
   "id": "f0920e89",
   "metadata": {},
   "outputs": [
    {
     "data": {
      "text/plain": [
       "MinMaxScaler(feature_range=(5, 10))"
      ]
     },
     "execution_count": 11,
     "metadata": {},
     "output_type": "execute_result"
    }
   ],
   "source": [
    "marketing_spend_fit"
   ]
  },
  {
   "cell_type": "code",
   "execution_count": 12,
   "id": "e9584c71",
   "metadata": {},
   "outputs": [
    {
     "data": {
      "text/html": [
       "<div>\n",
       "<style scoped>\n",
       "    .dataframe tbody tr th:only-of-type {\n",
       "        vertical-align: middle;\n",
       "    }\n",
       "\n",
       "    .dataframe tbody tr th {\n",
       "        vertical-align: top;\n",
       "    }\n",
       "\n",
       "    .dataframe thead th {\n",
       "        text-align: right;\n",
       "    }\n",
       "</style>\n",
       "<table border=\"1\" class=\"dataframe\">\n",
       "  <thead>\n",
       "    <tr style=\"text-align: right;\">\n",
       "      <th></th>\n",
       "      <th>Marketing Spend</th>\n",
       "      <th>Administration</th>\n",
       "      <th>Transport</th>\n",
       "      <th>Area</th>\n",
       "      <th>Profit</th>\n",
       "    </tr>\n",
       "  </thead>\n",
       "  <tbody>\n",
       "    <tr>\n",
       "      <th>0</th>\n",
       "      <td>114523.61</td>\n",
       "      <td>136897.80</td>\n",
       "      <td>471784.10</td>\n",
       "      <td>Dhaka</td>\n",
       "      <td>192261.83</td>\n",
       "    </tr>\n",
       "    <tr>\n",
       "      <th>1</th>\n",
       "      <td>162597.70</td>\n",
       "      <td>151377.59</td>\n",
       "      <td>443898.53</td>\n",
       "      <td>Ctg</td>\n",
       "      <td>191792.06</td>\n",
       "    </tr>\n",
       "    <tr>\n",
       "      <th>2</th>\n",
       "      <td>153441.51</td>\n",
       "      <td>101145.55</td>\n",
       "      <td>407934.54</td>\n",
       "      <td>Rangpur</td>\n",
       "      <td>191050.39</td>\n",
       "    </tr>\n",
       "    <tr>\n",
       "      <th>3</th>\n",
       "      <td>144372.41</td>\n",
       "      <td>118671.85</td>\n",
       "      <td>383199.62</td>\n",
       "      <td>Dhaka</td>\n",
       "      <td>182901.99</td>\n",
       "    </tr>\n",
       "    <tr>\n",
       "      <th>4</th>\n",
       "      <td>142107.34</td>\n",
       "      <td>91391.77</td>\n",
       "      <td>366168.42</td>\n",
       "      <td>Rangpur</td>\n",
       "      <td>166187.94</td>\n",
       "    </tr>\n",
       "  </tbody>\n",
       "</table>\n",
       "</div>"
      ],
      "text/plain": [
       "   Marketing Spend  Administration  Transport     Area     Profit\n",
       "0        114523.61       136897.80  471784.10    Dhaka  192261.83\n",
       "1        162597.70       151377.59  443898.53      Ctg  191792.06\n",
       "2        153441.51       101145.55  407934.54  Rangpur  191050.39\n",
       "3        144372.41       118671.85  383199.62    Dhaka  182901.99\n",
       "4        142107.34        91391.77  366168.42  Rangpur  166187.94"
      ]
     },
     "execution_count": 12,
     "metadata": {},
     "output_type": "execute_result"
    }
   ],
   "source": [
    "df.head()"
   ]
  },
  {
   "cell_type": "code",
   "execution_count": 41,
   "id": "8fbf8c73",
   "metadata": {},
   "outputs": [],
   "source": [
    "df['Marketing Spend'] = m.transform(df[['Marketing Spend']]) # transform means replace"
   ]
  },
  {
   "cell_type": "code",
   "execution_count": 42,
   "id": "7c4e70c0",
   "metadata": {},
   "outputs": [
    {
     "data": {
      "text/plain": [
       "array([[3.04835063],\n",
       "       [3.04840596],\n",
       "       [3.04839542],\n",
       "       [3.04838498],\n",
       "       [3.04838238],\n",
       "       [3.0483706 ],\n",
       "       [3.04837375],\n",
       "       [3.04836878],\n",
       "       [3.04835755],\n",
       "       [3.04836077],\n",
       "       [3.04833611],\n",
       "       [3.04833468],\n",
       "       [3.04832685],\n",
       "       [3.04832469],\n",
       "       [3.04835687],\n",
       "       [3.04840913],\n",
       "       [3.0483086 ],\n",
       "       [3.04832776],\n",
       "       [3.04832441],\n",
       "       [3.04831828],\n",
       "       [3.04830658],\n",
       "       [3.04830904],\n",
       "       [3.04830398],\n",
       "       [3.04829654],\n",
       "       [3.04830749],\n",
       "       [3.04829324],\n",
       "       [3.04830552],\n",
       "       [3.04830181],\n",
       "       [3.04829484],\n",
       "       [3.04829432],\n",
       "       [3.04829017],\n",
       "       [3.04828918],\n",
       "       [3.0482918 ],\n",
       "       [3.04828269],\n",
       "       [3.04827225],\n",
       "       [3.04827177],\n",
       "       [3.0482518 ],\n",
       "       [3.04826954],\n",
       "       [3.0482421 ],\n",
       "       [3.04826319],\n",
       "       [3.04825191],\n",
       "       [3.04825092],\n",
       "       [3.04824602],\n",
       "       [3.04823666],\n",
       "       [3.04824434],\n",
       "       [3.04821996],\n",
       "       [3.04822033],\n",
       "       [3.04821881],\n",
       "       [3.04821944],\n",
       "       [3.04821881]])"
      ]
     },
     "execution_count": 42,
     "metadata": {},
     "output_type": "execute_result"
    }
   ],
   "source": [
    " df.head()\n"
   ]
  },
  {
   "cell_type": "code",
   "execution_count": 15,
   "id": "00ef45d2",
   "metadata": {},
   "outputs": [
    {
     "data": {
      "text/html": [
       "<div>\n",
       "<style scoped>\n",
       "    .dataframe tbody tr th:only-of-type {\n",
       "        vertical-align: middle;\n",
       "    }\n",
       "\n",
       "    .dataframe tbody tr th {\n",
       "        vertical-align: top;\n",
       "    }\n",
       "\n",
       "    .dataframe thead th {\n",
       "        text-align: right;\n",
       "    }\n",
       "</style>\n",
       "<table border=\"1\" class=\"dataframe\">\n",
       "  <thead>\n",
       "    <tr style=\"text-align: right;\">\n",
       "      <th></th>\n",
       "      <th>Marketing Spend</th>\n",
       "      <th>Administration</th>\n",
       "      <th>Transport</th>\n",
       "      <th>Area</th>\n",
       "      <th>Profit</th>\n",
       "    </tr>\n",
       "  </thead>\n",
       "  <tbody>\n",
       "    <tr>\n",
       "      <th>0</th>\n",
       "      <td>8.463083</td>\n",
       "      <td>136897.80</td>\n",
       "      <td>471784.10</td>\n",
       "      <td>Dhaka</td>\n",
       "      <td>192261.83</td>\n",
       "    </tr>\n",
       "    <tr>\n",
       "      <th>1</th>\n",
       "      <td>9.916797</td>\n",
       "      <td>151377.59</td>\n",
       "      <td>443898.53</td>\n",
       "      <td>Ctg</td>\n",
       "      <td>191792.06</td>\n",
       "    </tr>\n",
       "    <tr>\n",
       "      <th>2</th>\n",
       "      <td>9.639923</td>\n",
       "      <td>101145.55</td>\n",
       "      <td>407934.54</td>\n",
       "      <td>Rangpur</td>\n",
       "      <td>191050.39</td>\n",
       "    </tr>\n",
       "    <tr>\n",
       "      <th>3</th>\n",
       "      <td>9.365682</td>\n",
       "      <td>118671.85</td>\n",
       "      <td>383199.62</td>\n",
       "      <td>Dhaka</td>\n",
       "      <td>182901.99</td>\n",
       "    </tr>\n",
       "    <tr>\n",
       "      <th>4</th>\n",
       "      <td>9.297189</td>\n",
       "      <td>91391.77</td>\n",
       "      <td>366168.42</td>\n",
       "      <td>Rangpur</td>\n",
       "      <td>166187.94</td>\n",
       "    </tr>\n",
       "  </tbody>\n",
       "</table>\n",
       "</div>"
      ],
      "text/plain": [
       "   Marketing Spend  Administration  Transport     Area     Profit\n",
       "0         8.463083       136897.80  471784.10    Dhaka  192261.83\n",
       "1         9.916797       151377.59  443898.53      Ctg  191792.06\n",
       "2         9.639923       101145.55  407934.54  Rangpur  191050.39\n",
       "3         9.365682       118671.85  383199.62    Dhaka  182901.99\n",
       "4         9.297189        91391.77  366168.42  Rangpur  166187.94"
      ]
     },
     "execution_count": 15,
     "metadata": {},
     "output_type": "execute_result"
    }
   ],
   "source": [
    "df.head()"
   ]
  },
  {
   "cell_type": "code",
   "execution_count": null,
   "id": "60f592c1",
   "metadata": {},
   "outputs": [],
   "source": []
  },
  {
   "cell_type": "code",
   "execution_count": 16,
   "id": "ad859d04",
   "metadata": {},
   "outputs": [],
   "source": [
    "df['Administration'] = m.fit_transform(df[['Administration']]) #fit means training ;  transform means replace"
   ]
  },
  {
   "cell_type": "code",
   "execution_count": 17,
   "id": "e91fa11c",
   "metadata": {},
   "outputs": [
    {
     "data": {
      "text/html": [
       "<div>\n",
       "<style scoped>\n",
       "    .dataframe tbody tr th:only-of-type {\n",
       "        vertical-align: middle;\n",
       "    }\n",
       "\n",
       "    .dataframe tbody tr th {\n",
       "        vertical-align: top;\n",
       "    }\n",
       "\n",
       "    .dataframe thead th {\n",
       "        text-align: right;\n",
       "    }\n",
       "</style>\n",
       "<table border=\"1\" class=\"dataframe\">\n",
       "  <thead>\n",
       "    <tr style=\"text-align: right;\">\n",
       "      <th></th>\n",
       "      <th>Marketing Spend</th>\n",
       "      <th>Administration</th>\n",
       "      <th>Transport</th>\n",
       "      <th>Area</th>\n",
       "      <th>Profit</th>\n",
       "    </tr>\n",
       "  </thead>\n",
       "  <tbody>\n",
       "    <tr>\n",
       "      <th>0</th>\n",
       "      <td>8.463083</td>\n",
       "      <td>8.258720</td>\n",
       "      <td>471784.10</td>\n",
       "      <td>Dhaka</td>\n",
       "      <td>192261.83</td>\n",
       "    </tr>\n",
       "    <tr>\n",
       "      <th>1</th>\n",
       "      <td>9.916797</td>\n",
       "      <td>8.809859</td>\n",
       "      <td>443898.53</td>\n",
       "      <td>Ctg</td>\n",
       "      <td>191792.06</td>\n",
       "    </tr>\n",
       "    <tr>\n",
       "      <th>2</th>\n",
       "      <td>9.639923</td>\n",
       "      <td>6.897895</td>\n",
       "      <td>407934.54</td>\n",
       "      <td>Rangpur</td>\n",
       "      <td>191050.39</td>\n",
       "    </tr>\n",
       "    <tr>\n",
       "      <th>3</th>\n",
       "      <td>9.365682</td>\n",
       "      <td>7.564992</td>\n",
       "      <td>383199.62</td>\n",
       "      <td>Dhaka</td>\n",
       "      <td>182901.99</td>\n",
       "    </tr>\n",
       "    <tr>\n",
       "      <th>4</th>\n",
       "      <td>9.297189</td>\n",
       "      <td>6.526640</td>\n",
       "      <td>366168.42</td>\n",
       "      <td>Rangpur</td>\n",
       "      <td>166187.94</td>\n",
       "    </tr>\n",
       "  </tbody>\n",
       "</table>\n",
       "</div>"
      ],
      "text/plain": [
       "   Marketing Spend  Administration  Transport     Area     Profit\n",
       "0         8.463083        8.258720  471784.10    Dhaka  192261.83\n",
       "1         9.916797        8.809859  443898.53      Ctg  191792.06\n",
       "2         9.639923        6.897895  407934.54  Rangpur  191050.39\n",
       "3         9.365682        7.564992  383199.62    Dhaka  182901.99\n",
       "4         9.297189        6.526640  366168.42  Rangpur  166187.94"
      ]
     },
     "execution_count": 17,
     "metadata": {},
     "output_type": "execute_result"
    }
   ],
   "source": [
    "df.head()"
   ]
  },
  {
   "cell_type": "code",
   "execution_count": 18,
   "id": "48fecdcc",
   "metadata": {},
   "outputs": [
    {
     "data": {
      "text/plain": [
       "0      8.258720\n",
       "1      8.809859\n",
       "2      6.897895\n",
       "3      7.564992\n",
       "4      6.526640\n",
       "5      6.847239\n",
       "6      8.650806\n",
       "7      8.587286\n",
       "8      8.708664\n",
       "9      7.184644\n",
       "10     7.257532\n",
       "11     6.541821\n",
       "12     7.894178\n",
       "13     8.205328\n",
       "14     9.006636\n",
       "15     7.715149\n",
       "16     7.676352\n",
       "17     8.570064\n",
       "18     7.393860\n",
       "19     8.891180\n",
       "20     7.382118\n",
       "21     8.901051\n",
       "22     7.721464\n",
       "23     7.073191\n",
       "24     6.826938\n",
       "25     8.359790\n",
       "26     8.534224\n",
       "27     7.914890\n",
       "28    10.000000\n",
       "29     8.872832\n",
       "30     7.449640\n",
       "31     8.860266\n",
       "32     7.966468\n",
       "33     6.970668\n",
       "34     9.050275\n",
       "35     6.285158\n",
       "36     7.884123\n",
       "37     5.000000\n",
       "38     5.558181\n",
       "39     6.206546\n",
       "40     7.560204\n",
       "41     6.272344\n",
       "42     6.709259\n",
       "43     7.896535\n",
       "44     8.940358\n",
       "45     7.773620\n",
       "46     7.456299\n",
       "47     8.202734\n",
       "48     5.017509\n",
       "49     7.500740\n",
       "Name: Administration, dtype: float64"
      ]
     },
     "execution_count": 18,
     "metadata": {},
     "output_type": "execute_result"
    }
   ],
   "source": [
    "df['Administration']"
   ]
  },
  {
   "cell_type": "markdown",
   "id": "51d338d8",
   "metadata": {},
   "source": [
    "# Standardization"
   ]
  },
  {
   "cell_type": "code",
   "execution_count": 19,
   "id": "becc4568",
   "metadata": {},
   "outputs": [],
   "source": [
    "from sklearn.preprocessing import StandardScaler"
   ]
  },
  {
   "cell_type": "code",
   "execution_count": 20,
   "id": "f359c231",
   "metadata": {},
   "outputs": [],
   "source": [
    "#create object for StandardScaler\n",
    "\n",
    "S = StandardScaler()\n",
    "\n",
    "marketing_spend_fit = S.fit(ds[['Marketing Spend']])\n",
    "Administration_fit = S.fit(ds[['Administration']])\n",
    "Transport_fit = S.fit(ds[['Transport']])\n",
    "\n",
    "\n"
   ]
  },
  {
   "cell_type": "code",
   "execution_count": 21,
   "id": "1361736e",
   "metadata": {},
   "outputs": [
    {
     "data": {
      "text/html": [
       "<div>\n",
       "<style scoped>\n",
       "    .dataframe tbody tr th:only-of-type {\n",
       "        vertical-align: middle;\n",
       "    }\n",
       "\n",
       "    .dataframe tbody tr th {\n",
       "        vertical-align: top;\n",
       "    }\n",
       "\n",
       "    .dataframe thead th {\n",
       "        text-align: right;\n",
       "    }\n",
       "</style>\n",
       "<table border=\"1\" class=\"dataframe\">\n",
       "  <thead>\n",
       "    <tr style=\"text-align: right;\">\n",
       "      <th></th>\n",
       "      <th>Marketing Spend</th>\n",
       "      <th>Administration</th>\n",
       "      <th>Transport</th>\n",
       "      <th>Area</th>\n",
       "      <th>Profit</th>\n",
       "    </tr>\n",
       "  </thead>\n",
       "  <tbody>\n",
       "    <tr>\n",
       "      <th>0</th>\n",
       "      <td>114523.61</td>\n",
       "      <td>136897.80</td>\n",
       "      <td>471784.10</td>\n",
       "      <td>Dhaka</td>\n",
       "      <td>192261.83</td>\n",
       "    </tr>\n",
       "    <tr>\n",
       "      <th>1</th>\n",
       "      <td>162597.70</td>\n",
       "      <td>151377.59</td>\n",
       "      <td>443898.53</td>\n",
       "      <td>Ctg</td>\n",
       "      <td>191792.06</td>\n",
       "    </tr>\n",
       "    <tr>\n",
       "      <th>2</th>\n",
       "      <td>153441.51</td>\n",
       "      <td>101145.55</td>\n",
       "      <td>407934.54</td>\n",
       "      <td>Rangpur</td>\n",
       "      <td>191050.39</td>\n",
       "    </tr>\n",
       "    <tr>\n",
       "      <th>3</th>\n",
       "      <td>144372.41</td>\n",
       "      <td>118671.85</td>\n",
       "      <td>383199.62</td>\n",
       "      <td>Dhaka</td>\n",
       "      <td>182901.99</td>\n",
       "    </tr>\n",
       "    <tr>\n",
       "      <th>4</th>\n",
       "      <td>142107.34</td>\n",
       "      <td>91391.77</td>\n",
       "      <td>366168.42</td>\n",
       "      <td>Rangpur</td>\n",
       "      <td>166187.94</td>\n",
       "    </tr>\n",
       "    <tr>\n",
       "      <th>5</th>\n",
       "      <td>131876.90</td>\n",
       "      <td>99814.71</td>\n",
       "      <td>362861.36</td>\n",
       "      <td>Dhaka</td>\n",
       "      <td>156991.12</td>\n",
       "    </tr>\n",
       "    <tr>\n",
       "      <th>6</th>\n",
       "      <td>134615.46</td>\n",
       "      <td>147198.87</td>\n",
       "      <td>127716.82</td>\n",
       "      <td>Ctg</td>\n",
       "      <td>156122.51</td>\n",
       "    </tr>\n",
       "    <tr>\n",
       "      <th>7</th>\n",
       "      <td>130298.13</td>\n",
       "      <td>145530.06</td>\n",
       "      <td>323876.68</td>\n",
       "      <td>Rangpur</td>\n",
       "      <td>155752.60</td>\n",
       "    </tr>\n",
       "    <tr>\n",
       "      <th>8</th>\n",
       "      <td>120542.52</td>\n",
       "      <td>148718.95</td>\n",
       "      <td>311613.29</td>\n",
       "      <td>Dhaka</td>\n",
       "      <td>152211.77</td>\n",
       "    </tr>\n",
       "    <tr>\n",
       "      <th>9</th>\n",
       "      <td>123334.88</td>\n",
       "      <td>108679.17</td>\n",
       "      <td>304981.62</td>\n",
       "      <td>Ctg</td>\n",
       "      <td>149759.96</td>\n",
       "    </tr>\n",
       "    <tr>\n",
       "      <th>10</th>\n",
       "      <td>101913.08</td>\n",
       "      <td>110594.11</td>\n",
       "      <td>229160.95</td>\n",
       "      <td>Rangpur</td>\n",
       "      <td>146121.95</td>\n",
       "    </tr>\n",
       "    <tr>\n",
       "      <th>11</th>\n",
       "      <td>100671.96</td>\n",
       "      <td>91790.61</td>\n",
       "      <td>249744.55</td>\n",
       "      <td>Ctg</td>\n",
       "      <td>144259.40</td>\n",
       "    </tr>\n",
       "    <tr>\n",
       "      <th>12</th>\n",
       "      <td>93863.75</td>\n",
       "      <td>127320.38</td>\n",
       "      <td>249839.44</td>\n",
       "      <td>Rangpur</td>\n",
       "      <td>141585.52</td>\n",
       "    </tr>\n",
       "    <tr>\n",
       "      <th>13</th>\n",
       "      <td>91992.39</td>\n",
       "      <td>135495.07</td>\n",
       "      <td>252664.93</td>\n",
       "      <td>Ctg</td>\n",
       "      <td>134307.35</td>\n",
       "    </tr>\n",
       "    <tr>\n",
       "      <th>14</th>\n",
       "      <td>119943.24</td>\n",
       "      <td>156547.42</td>\n",
       "      <td>256512.92</td>\n",
       "      <td>Rangpur</td>\n",
       "      <td>132602.65</td>\n",
       "    </tr>\n",
       "    <tr>\n",
       "      <th>15</th>\n",
       "      <td>165349.20</td>\n",
       "      <td>122616.84</td>\n",
       "      <td>261776.23</td>\n",
       "      <td>Dhaka</td>\n",
       "      <td>129917.04</td>\n",
       "    </tr>\n",
       "    <tr>\n",
       "      <th>16</th>\n",
       "      <td>78013.11</td>\n",
       "      <td>121597.55</td>\n",
       "      <td>264346.06</td>\n",
       "      <td>Ctg</td>\n",
       "      <td>126992.93</td>\n",
       "    </tr>\n",
       "    <tr>\n",
       "      <th>17</th>\n",
       "      <td>94657.16</td>\n",
       "      <td>145077.58</td>\n",
       "      <td>282574.31</td>\n",
       "      <td>Dhaka</td>\n",
       "      <td>125370.37</td>\n",
       "    </tr>\n",
       "    <tr>\n",
       "      <th>18</th>\n",
       "      <td>91749.16</td>\n",
       "      <td>114175.79</td>\n",
       "      <td>294919.57</td>\n",
       "      <td>Rangpur</td>\n",
       "      <td>124266.90</td>\n",
       "    </tr>\n",
       "    <tr>\n",
       "      <th>19</th>\n",
       "      <td>86419.70</td>\n",
       "      <td>153514.11</td>\n",
       "      <td>NaN</td>\n",
       "      <td>Dhaka</td>\n",
       "      <td>122776.86</td>\n",
       "    </tr>\n",
       "    <tr>\n",
       "      <th>20</th>\n",
       "      <td>76253.86</td>\n",
       "      <td>113867.30</td>\n",
       "      <td>298664.47</td>\n",
       "      <td>Ctg</td>\n",
       "      <td>118474.03</td>\n",
       "    </tr>\n",
       "    <tr>\n",
       "      <th>21</th>\n",
       "      <td>78389.47</td>\n",
       "      <td>153773.43</td>\n",
       "      <td>299737.29</td>\n",
       "      <td>Dhaka</td>\n",
       "      <td>111313.02</td>\n",
       "    </tr>\n",
       "    <tr>\n",
       "      <th>22</th>\n",
       "      <td>73994.56</td>\n",
       "      <td>122782.75</td>\n",
       "      <td>303319.26</td>\n",
       "      <td>Rangpur</td>\n",
       "      <td>110352.25</td>\n",
       "    </tr>\n",
       "    <tr>\n",
       "      <th>23</th>\n",
       "      <td>67532.53</td>\n",
       "      <td>105751.03</td>\n",
       "      <td>304768.73</td>\n",
       "      <td>Rangpur</td>\n",
       "      <td>108733.99</td>\n",
       "    </tr>\n",
       "    <tr>\n",
       "      <th>24</th>\n",
       "      <td>77044.01</td>\n",
       "      <td>99281.34</td>\n",
       "      <td>140574.81</td>\n",
       "      <td>Dhaka</td>\n",
       "      <td>108552.04</td>\n",
       "    </tr>\n",
       "    <tr>\n",
       "      <th>25</th>\n",
       "      <td>64664.71</td>\n",
       "      <td>139553.16</td>\n",
       "      <td>137962.62</td>\n",
       "      <td>Ctg</td>\n",
       "      <td>107404.34</td>\n",
       "    </tr>\n",
       "    <tr>\n",
       "      <th>26</th>\n",
       "      <td>75328.87</td>\n",
       "      <td>144135.98</td>\n",
       "      <td>134050.07</td>\n",
       "      <td>Rangpur</td>\n",
       "      <td>105733.54</td>\n",
       "    </tr>\n",
       "    <tr>\n",
       "      <th>27</th>\n",
       "      <td>72107.60</td>\n",
       "      <td>127864.55</td>\n",
       "      <td>353183.81</td>\n",
       "      <td>Dhaka</td>\n",
       "      <td>105008.31</td>\n",
       "    </tr>\n",
       "    <tr>\n",
       "      <th>28</th>\n",
       "      <td>66051.52</td>\n",
       "      <td>182645.56</td>\n",
       "      <td>118148.20</td>\n",
       "      <td>Rangpur</td>\n",
       "      <td>103282.38</td>\n",
       "    </tr>\n",
       "    <tr>\n",
       "      <th>29</th>\n",
       "      <td>65605.48</td>\n",
       "      <td>153032.06</td>\n",
       "      <td>107138.38</td>\n",
       "      <td>Dhaka</td>\n",
       "      <td>101004.64</td>\n",
       "    </tr>\n",
       "    <tr>\n",
       "      <th>30</th>\n",
       "      <td>61994.48</td>\n",
       "      <td>115641.28</td>\n",
       "      <td>91131.24</td>\n",
       "      <td>Rangpur</td>\n",
       "      <td>99937.59</td>\n",
       "    </tr>\n",
       "    <tr>\n",
       "      <th>31</th>\n",
       "      <td>61136.38</td>\n",
       "      <td>152701.92</td>\n",
       "      <td>88218.23</td>\n",
       "      <td>Dhaka</td>\n",
       "      <td>97483.56</td>\n",
       "    </tr>\n",
       "    <tr>\n",
       "      <th>32</th>\n",
       "      <td>63408.86</td>\n",
       "      <td>129219.61</td>\n",
       "      <td>46085.25</td>\n",
       "      <td>Ctg</td>\n",
       "      <td>97427.84</td>\n",
       "    </tr>\n",
       "    <tr>\n",
       "      <th>33</th>\n",
       "      <td>55493.95</td>\n",
       "      <td>103057.49</td>\n",
       "      <td>214634.81</td>\n",
       "      <td>Rangpur</td>\n",
       "      <td>96778.92</td>\n",
       "    </tr>\n",
       "    <tr>\n",
       "      <th>34</th>\n",
       "      <td>46426.07</td>\n",
       "      <td>157693.92</td>\n",
       "      <td>210797.67</td>\n",
       "      <td>Ctg</td>\n",
       "      <td>96712.80</td>\n",
       "    </tr>\n",
       "    <tr>\n",
       "      <th>35</th>\n",
       "      <td>46014.02</td>\n",
       "      <td>85047.44</td>\n",
       "      <td>205517.64</td>\n",
       "      <td>Dhaka</td>\n",
       "      <td>96479.51</td>\n",
       "    </tr>\n",
       "    <tr>\n",
       "      <th>36</th>\n",
       "      <td>28663.76</td>\n",
       "      <td>127056.21</td>\n",
       "      <td>201126.82</td>\n",
       "      <td>Rangpur</td>\n",
       "      <td>90708.19</td>\n",
       "    </tr>\n",
       "    <tr>\n",
       "      <th>37</th>\n",
       "      <td>44069.95</td>\n",
       "      <td>51283.14</td>\n",
       "      <td>197029.42</td>\n",
       "      <td>Ctg</td>\n",
       "      <td>89949.14</td>\n",
       "    </tr>\n",
       "    <tr>\n",
       "      <th>38</th>\n",
       "      <td>20229.59</td>\n",
       "      <td>65947.93</td>\n",
       "      <td>185265.10</td>\n",
       "      <td>Dhaka</td>\n",
       "      <td>81229.06</td>\n",
       "    </tr>\n",
       "    <tr>\n",
       "      <th>39</th>\n",
       "      <td>38558.51</td>\n",
       "      <td>82982.09</td>\n",
       "      <td>174999.30</td>\n",
       "      <td>Ctg</td>\n",
       "      <td>81005.76</td>\n",
       "    </tr>\n",
       "    <tr>\n",
       "      <th>40</th>\n",
       "      <td>28754.33</td>\n",
       "      <td>118546.05</td>\n",
       "      <td>172795.67</td>\n",
       "      <td>Ctg</td>\n",
       "      <td>78239.91</td>\n",
       "    </tr>\n",
       "    <tr>\n",
       "      <th>41</th>\n",
       "      <td>27892.92</td>\n",
       "      <td>84710.77</td>\n",
       "      <td>164470.71</td>\n",
       "      <td>Rangpur</td>\n",
       "      <td>77798.83</td>\n",
       "    </tr>\n",
       "    <tr>\n",
       "      <th>42</th>\n",
       "      <td>23640.93</td>\n",
       "      <td>96189.63</td>\n",
       "      <td>148001.11</td>\n",
       "      <td>Ctg</td>\n",
       "      <td>71498.49</td>\n",
       "    </tr>\n",
       "    <tr>\n",
       "      <th>43</th>\n",
       "      <td>15505.73</td>\n",
       "      <td>127382.30</td>\n",
       "      <td>35534.17</td>\n",
       "      <td>Dhaka</td>\n",
       "      <td>69758.98</td>\n",
       "    </tr>\n",
       "    <tr>\n",
       "      <th>44</th>\n",
       "      <td>22177.74</td>\n",
       "      <td>154806.14</td>\n",
       "      <td>28334.72</td>\n",
       "      <td>Ctg</td>\n",
       "      <td>65200.33</td>\n",
       "    </tr>\n",
       "    <tr>\n",
       "      <th>45</th>\n",
       "      <td>1000.23</td>\n",
       "      <td>124153.04</td>\n",
       "      <td>1903.93</td>\n",
       "      <td>Dhaka</td>\n",
       "      <td>64926.08</td>\n",
       "    </tr>\n",
       "    <tr>\n",
       "      <th>46</th>\n",
       "      <td>1315.46</td>\n",
       "      <td>115816.21</td>\n",
       "      <td>297114.46</td>\n",
       "      <td>Rangpur</td>\n",
       "      <td>49490.75</td>\n",
       "    </tr>\n",
       "    <tr>\n",
       "      <th>47</th>\n",
       "      <td>0.00</td>\n",
       "      <td>135426.92</td>\n",
       "      <td>0.00</td>\n",
       "      <td>Ctg</td>\n",
       "      <td>42559.73</td>\n",
       "    </tr>\n",
       "    <tr>\n",
       "      <th>48</th>\n",
       "      <td>542.05</td>\n",
       "      <td>51743.15</td>\n",
       "      <td>0.00</td>\n",
       "      <td>Dhaka</td>\n",
       "      <td>35673.41</td>\n",
       "    </tr>\n",
       "    <tr>\n",
       "      <th>49</th>\n",
       "      <td>0.00</td>\n",
       "      <td>116983.80</td>\n",
       "      <td>45173.06</td>\n",
       "      <td>Ctg</td>\n",
       "      <td>14681.40</td>\n",
       "    </tr>\n",
       "  </tbody>\n",
       "</table>\n",
       "</div>"
      ],
      "text/plain": [
       "    Marketing Spend  Administration  Transport     Area     Profit\n",
       "0         114523.61       136897.80  471784.10    Dhaka  192261.83\n",
       "1         162597.70       151377.59  443898.53      Ctg  191792.06\n",
       "2         153441.51       101145.55  407934.54  Rangpur  191050.39\n",
       "3         144372.41       118671.85  383199.62    Dhaka  182901.99\n",
       "4         142107.34        91391.77  366168.42  Rangpur  166187.94\n",
       "5         131876.90        99814.71  362861.36    Dhaka  156991.12\n",
       "6         134615.46       147198.87  127716.82      Ctg  156122.51\n",
       "7         130298.13       145530.06  323876.68  Rangpur  155752.60\n",
       "8         120542.52       148718.95  311613.29    Dhaka  152211.77\n",
       "9         123334.88       108679.17  304981.62      Ctg  149759.96\n",
       "10        101913.08       110594.11  229160.95  Rangpur  146121.95\n",
       "11        100671.96        91790.61  249744.55      Ctg  144259.40\n",
       "12         93863.75       127320.38  249839.44  Rangpur  141585.52\n",
       "13         91992.39       135495.07  252664.93      Ctg  134307.35\n",
       "14        119943.24       156547.42  256512.92  Rangpur  132602.65\n",
       "15        165349.20       122616.84  261776.23    Dhaka  129917.04\n",
       "16         78013.11       121597.55  264346.06      Ctg  126992.93\n",
       "17         94657.16       145077.58  282574.31    Dhaka  125370.37\n",
       "18         91749.16       114175.79  294919.57  Rangpur  124266.90\n",
       "19         86419.70       153514.11        NaN    Dhaka  122776.86\n",
       "20         76253.86       113867.30  298664.47      Ctg  118474.03\n",
       "21         78389.47       153773.43  299737.29    Dhaka  111313.02\n",
       "22         73994.56       122782.75  303319.26  Rangpur  110352.25\n",
       "23         67532.53       105751.03  304768.73  Rangpur  108733.99\n",
       "24         77044.01        99281.34  140574.81    Dhaka  108552.04\n",
       "25         64664.71       139553.16  137962.62      Ctg  107404.34\n",
       "26         75328.87       144135.98  134050.07  Rangpur  105733.54\n",
       "27         72107.60       127864.55  353183.81    Dhaka  105008.31\n",
       "28         66051.52       182645.56  118148.20  Rangpur  103282.38\n",
       "29         65605.48       153032.06  107138.38    Dhaka  101004.64\n",
       "30         61994.48       115641.28   91131.24  Rangpur   99937.59\n",
       "31         61136.38       152701.92   88218.23    Dhaka   97483.56\n",
       "32         63408.86       129219.61   46085.25      Ctg   97427.84\n",
       "33         55493.95       103057.49  214634.81  Rangpur   96778.92\n",
       "34         46426.07       157693.92  210797.67      Ctg   96712.80\n",
       "35         46014.02        85047.44  205517.64    Dhaka   96479.51\n",
       "36         28663.76       127056.21  201126.82  Rangpur   90708.19\n",
       "37         44069.95        51283.14  197029.42      Ctg   89949.14\n",
       "38         20229.59        65947.93  185265.10    Dhaka   81229.06\n",
       "39         38558.51        82982.09  174999.30      Ctg   81005.76\n",
       "40         28754.33       118546.05  172795.67      Ctg   78239.91\n",
       "41         27892.92        84710.77  164470.71  Rangpur   77798.83\n",
       "42         23640.93        96189.63  148001.11      Ctg   71498.49\n",
       "43         15505.73       127382.30   35534.17    Dhaka   69758.98\n",
       "44         22177.74       154806.14   28334.72      Ctg   65200.33\n",
       "45          1000.23       124153.04    1903.93    Dhaka   64926.08\n",
       "46          1315.46       115816.21  297114.46  Rangpur   49490.75\n",
       "47             0.00       135426.92       0.00      Ctg   42559.73\n",
       "48           542.05        51743.15       0.00    Dhaka   35673.41\n",
       "49             0.00       116983.80   45173.06      Ctg   14681.40"
      ]
     },
     "execution_count": 21,
     "metadata": {},
     "output_type": "execute_result"
    }
   ],
   "source": [
    "ds"
   ]
  },
  {
   "cell_type": "code",
   "execution_count": 45,
   "id": "296e32ac",
   "metadata": {},
   "outputs": [],
   "source": [
    "#traning and replcae\n",
    "#all columns\n",
    "\n",
    "ds['Marketing Spend'] = S.transform(ds[['Marketing Spend']])\n",
    "ds['Administration'] = S.transform(ds[['Administration']])\n",
    "ds['Transport'] = S.transform(ds[['Transport']])\n"
   ]
  },
  {
   "cell_type": "markdown",
   "id": "9d96ae02",
   "metadata": {},
   "source": [
    "# Max Absulate Scaler"
   ]
  },
  {
   "cell_type": "code",
   "execution_count": 47,
   "id": "95d83c34",
   "metadata": {},
   "outputs": [
    {
     "data": {
      "text/html": [
       "<div>\n",
       "<style scoped>\n",
       "    .dataframe tbody tr th:only-of-type {\n",
       "        vertical-align: middle;\n",
       "    }\n",
       "\n",
       "    .dataframe tbody tr th {\n",
       "        vertical-align: top;\n",
       "    }\n",
       "\n",
       "    .dataframe thead th {\n",
       "        text-align: right;\n",
       "    }\n",
       "</style>\n",
       "<table border=\"1\" class=\"dataframe\">\n",
       "  <thead>\n",
       "    <tr style=\"text-align: right;\">\n",
       "      <th></th>\n",
       "      <th>Marketing Spend</th>\n",
       "      <th>Administration</th>\n",
       "      <th>Transport</th>\n",
       "      <th>Area</th>\n",
       "      <th>Profit</th>\n",
       "    </tr>\n",
       "  </thead>\n",
       "  <tbody>\n",
       "    <tr>\n",
       "      <th>0</th>\n",
       "      <td>-1.818107</td>\n",
       "      <td>-1.818107</td>\n",
       "      <td>-1.818107</td>\n",
       "      <td>Dhaka</td>\n",
       "      <td>192261.83</td>\n",
       "    </tr>\n",
       "    <tr>\n",
       "      <th>1</th>\n",
       "      <td>-1.818107</td>\n",
       "      <td>-1.818107</td>\n",
       "      <td>-1.818107</td>\n",
       "      <td>Ctg</td>\n",
       "      <td>191792.06</td>\n",
       "    </tr>\n",
       "    <tr>\n",
       "      <th>2</th>\n",
       "      <td>-1.818107</td>\n",
       "      <td>-1.818107</td>\n",
       "      <td>-1.818107</td>\n",
       "      <td>Rangpur</td>\n",
       "      <td>191050.39</td>\n",
       "    </tr>\n",
       "    <tr>\n",
       "      <th>3</th>\n",
       "      <td>-1.818107</td>\n",
       "      <td>-1.818107</td>\n",
       "      <td>-1.818107</td>\n",
       "      <td>Dhaka</td>\n",
       "      <td>182901.99</td>\n",
       "    </tr>\n",
       "    <tr>\n",
       "      <th>4</th>\n",
       "      <td>-1.818107</td>\n",
       "      <td>-1.818107</td>\n",
       "      <td>-1.818107</td>\n",
       "      <td>Rangpur</td>\n",
       "      <td>166187.94</td>\n",
       "    </tr>\n",
       "  </tbody>\n",
       "</table>\n",
       "</div>"
      ],
      "text/plain": [
       "   Marketing Spend  Administration  Transport     Area     Profit\n",
       "0        -1.818107       -1.818107  -1.818107    Dhaka  192261.83\n",
       "1        -1.818107       -1.818107  -1.818107      Ctg  191792.06\n",
       "2        -1.818107       -1.818107  -1.818107  Rangpur  191050.39\n",
       "3        -1.818107       -1.818107  -1.818107    Dhaka  182901.99\n",
       "4        -1.818107       -1.818107  -1.818107  Rangpur  166187.94"
      ]
     },
     "execution_count": 47,
     "metadata": {},
     "output_type": "execute_result"
    }
   ],
   "source": [
    "ds.head()"
   ]
  },
  {
   "cell_type": "code",
   "execution_count": 24,
   "id": "867c6b51",
   "metadata": {},
   "outputs": [],
   "source": [
    "#find absulate value for perticular column and store in a varibale -> .abs()\n",
    "\n",
    "Marketing_Spend = ds['Marketing Spend'] \n",
    "Administration  = ds['Administration']\n",
    "Transport = ds['Transport']\n",
    "#find max value for this varibale -> .max()\n",
    "\n"
   ]
  },
  {
   "cell_type": "code",
   "execution_count": 25,
   "id": "f8f831ae",
   "metadata": {},
   "outputs": [
    {
     "data": {
      "text/plain": [
       "0     2.165287\n",
       "1     1.929843\n",
       "2     1.626191\n",
       "3     1.417348\n",
       "4     1.273550\n",
       "5     1.245627\n",
       "6     0.739753\n",
       "7     0.916470\n",
       "8     0.812928\n",
       "9     0.756935\n",
       "10    0.116763\n",
       "11    0.290555\n",
       "12    0.291357\n",
       "13    0.315213\n",
       "14    0.347702\n",
       "15    0.392142\n",
       "16    0.413839\n",
       "17    0.567745\n",
       "18    0.671979\n",
       "19         NaN\n",
       "20    0.703598\n",
       "21    0.712656\n",
       "22    0.742899\n",
       "23    0.755138\n",
       "24    0.631190\n",
       "25    0.653246\n",
       "26    0.686280\n",
       "27    1.163917\n",
       "28    0.820543\n",
       "29    0.913502\n",
       "30    1.048654\n",
       "31    1.073249\n",
       "32    1.428988\n",
       "33    0.005884\n",
       "34    0.038282\n",
       "35    0.082863\n",
       "36    0.119935\n",
       "37    0.154531\n",
       "38    0.253860\n",
       "39    0.340536\n",
       "40    0.359142\n",
       "41    0.429432\n",
       "42    0.568488\n",
       "43    1.518073\n",
       "44    1.578860\n",
       "45    1.802021\n",
       "46    0.690511\n",
       "47    1.818096\n",
       "48    1.818096\n",
       "49    1.436690\n",
       "Name: Transport, dtype: float64"
      ]
     },
     "execution_count": 25,
     "metadata": {},
     "output_type": "execute_result"
    }
   ],
   "source": [
    "Marketing_Spend.abs()\n",
    "Administration.abs()\n",
    "Transport.abs()\n",
    "\n",
    "\n",
    "\n",
    "\n"
   ]
  },
  {
   "cell_type": "code",
   "execution_count": 26,
   "id": "d02c62ee",
   "metadata": {},
   "outputs": [
    {
     "data": {
      "text/plain": [
       "-0.4220142459996778"
      ]
     },
     "execution_count": 26,
     "metadata": {},
     "output_type": "execute_result"
    }
   ],
   "source": [
    "Marketing_Spend.max()"
   ]
  },
  {
   "cell_type": "code",
   "execution_count": 27,
   "id": "090e9a16",
   "metadata": {},
   "outputs": [
    {
     "data": {
      "text/plain": [
       "-0.2759770212674204"
      ]
     },
     "execution_count": 27,
     "metadata": {},
     "output_type": "execute_result"
    }
   ],
   "source": [
    "Administration.max()"
   ]
  },
  {
   "cell_type": "code",
   "execution_count": 28,
   "id": "86af12a1",
   "metadata": {},
   "outputs": [
    {
     "data": {
      "text/plain": [
       "2.1652874959337036"
      ]
     },
     "execution_count": 28,
     "metadata": {},
     "output_type": "execute_result"
    }
   ],
   "source": [
    "Transport.max()\n"
   ]
  },
  {
   "cell_type": "code",
   "execution_count": 29,
   "id": "97c50af1",
   "metadata": {},
   "outputs": [
    {
     "data": {
      "text/plain": [
       "0    -0.331118\n",
       "1    -0.269990\n",
       "2    -0.482050\n",
       "3    -0.408061\n",
       "4    -0.523227\n",
       "5    -0.487669\n",
       "6    -0.287631\n",
       "7    -0.294676\n",
       "8    -0.281214\n",
       "9    -0.450246\n",
       "10   -0.442162\n",
       "11   -0.521543\n",
       "12   -0.371550\n",
       "13   -0.337040\n",
       "14   -0.248165\n",
       "15   -0.391407\n",
       "16   -0.395710\n",
       "17   -0.296586\n",
       "18   -0.427042\n",
       "19   -0.260970\n",
       "20   -0.428344\n",
       "21   -0.259876\n",
       "22   -0.390706\n",
       "23   -0.462608\n",
       "24   -0.489920\n",
       "25   -0.319908\n",
       "26   -0.300561\n",
       "27   -0.369253\n",
       "28   -0.137989\n",
       "29   -0.263005\n",
       "30   -0.420855\n",
       "31   -0.264399\n",
       "32   -0.363532\n",
       "33   -0.473979\n",
       "34   -0.243325\n",
       "35   -0.550010\n",
       "36   -0.372665\n",
       "37   -0.692550\n",
       "38   -0.630641\n",
       "39   -0.558730\n",
       "40   -0.408592\n",
       "41   -0.551432\n",
       "42   -0.502972\n",
       "43   -0.371289\n",
       "44   -0.255516\n",
       "45   -0.384922\n",
       "46   -0.420116\n",
       "47   -0.337328\n",
       "48   -0.690608\n",
       "49   -0.415187\n",
       "Name: Administration, dtype: float64"
      ]
     },
     "execution_count": 29,
     "metadata": {},
     "output_type": "execute_result"
    }
   ],
   "source": [
    "ds['Administration'] / 2"
   ]
  },
  {
   "cell_type": "code",
   "execution_count": 30,
   "id": "457079c2",
   "metadata": {},
   "outputs": [],
   "source": [
    "# Marketing_Spend.abs()"
   ]
  },
  {
   "cell_type": "markdown",
   "id": "99391431",
   "metadata": {},
   "source": [
    "# Robust "
   ]
  },
  {
   "cell_type": "code",
   "execution_count": 31,
   "id": "8b0ed0ca",
   "metadata": {},
   "outputs": [],
   "source": [
    "from sklearn.preprocessing import RobustScaler"
   ]
  },
  {
   "cell_type": "code",
   "execution_count": 32,
   "id": "65f11f07",
   "metadata": {},
   "outputs": [
    {
     "data": {
      "text/plain": [
       "RobustScaler()"
      ]
     },
     "execution_count": 32,
     "metadata": {},
     "output_type": "execute_result"
    }
   ],
   "source": [
    "R = RobustScaler()\n",
    "R"
   ]
  },
  {
   "cell_type": "code",
   "execution_count": 33,
   "id": "55702338",
   "metadata": {},
   "outputs": [],
   "source": [
    "marketing_spend_fit = R.fit(ds[['Marketing Spend']])\n",
    "Administration_fit = R.fit(ds[['Administration']])\n",
    "Transport_fit = R.fit(ds[['Transport']])\n",
    "\n"
   ]
  },
  {
   "cell_type": "code",
   "execution_count": 43,
   "id": "d4c19e6f",
   "metadata": {},
   "outputs": [],
   "source": [
    "ds['Marketing Spend'] = R.transform(ds[['Marketing Spend']])\n",
    "ds['Administration'] = R.transform(ds[['Administration']])\n",
    "ds['Transport'] = R.transform(ds[['Transport']])"
   ]
  },
  {
   "cell_type": "code",
   "execution_count": 44,
   "id": "8ca79db3",
   "metadata": {},
   "outputs": [
    {
     "data": {
      "text/html": [
       "<div>\n",
       "<style scoped>\n",
       "    .dataframe tbody tr th:only-of-type {\n",
       "        vertical-align: middle;\n",
       "    }\n",
       "\n",
       "    .dataframe tbody tr th {\n",
       "        vertical-align: top;\n",
       "    }\n",
       "\n",
       "    .dataframe thead th {\n",
       "        text-align: right;\n",
       "    }\n",
       "</style>\n",
       "<table border=\"1\" class=\"dataframe\">\n",
       "  <thead>\n",
       "    <tr style=\"text-align: right;\">\n",
       "      <th></th>\n",
       "      <th>Marketing Spend</th>\n",
       "      <th>Administration</th>\n",
       "      <th>Transport</th>\n",
       "      <th>Area</th>\n",
       "      <th>Profit</th>\n",
       "    </tr>\n",
       "  </thead>\n",
       "  <tbody>\n",
       "    <tr>\n",
       "      <th>0</th>\n",
       "      <td>-1.295424</td>\n",
       "      <td>-1.295424</td>\n",
       "      <td>-1.295415</td>\n",
       "      <td>Dhaka</td>\n",
       "      <td>192261.83</td>\n",
       "    </tr>\n",
       "    <tr>\n",
       "      <th>1</th>\n",
       "      <td>-1.295423</td>\n",
       "      <td>-1.295423</td>\n",
       "      <td>-1.295416</td>\n",
       "      <td>Ctg</td>\n",
       "      <td>191792.06</td>\n",
       "    </tr>\n",
       "    <tr>\n",
       "      <th>2</th>\n",
       "      <td>-1.295423</td>\n",
       "      <td>-1.295425</td>\n",
       "      <td>-1.295417</td>\n",
       "      <td>Rangpur</td>\n",
       "      <td>191050.39</td>\n",
       "    </tr>\n",
       "    <tr>\n",
       "      <th>3</th>\n",
       "      <td>-1.295423</td>\n",
       "      <td>-1.295424</td>\n",
       "      <td>-1.295417</td>\n",
       "      <td>Dhaka</td>\n",
       "      <td>182901.99</td>\n",
       "    </tr>\n",
       "    <tr>\n",
       "      <th>4</th>\n",
       "      <td>-1.295424</td>\n",
       "      <td>-1.295425</td>\n",
       "      <td>-1.295418</td>\n",
       "      <td>Rangpur</td>\n",
       "      <td>166187.94</td>\n",
       "    </tr>\n",
       "  </tbody>\n",
       "</table>\n",
       "</div>"
      ],
      "text/plain": [
       "   Marketing Spend  Administration  Transport     Area     Profit\n",
       "0        -1.295424       -1.295424  -1.295415    Dhaka  192261.83\n",
       "1        -1.295423       -1.295423  -1.295416      Ctg  191792.06\n",
       "2        -1.295423       -1.295425  -1.295417  Rangpur  191050.39\n",
       "3        -1.295423       -1.295424  -1.295417    Dhaka  182901.99\n",
       "4        -1.295424       -1.295425  -1.295418  Rangpur  166187.94"
      ]
     },
     "execution_count": 44,
     "metadata": {},
     "output_type": "execute_result"
    }
   ],
   "source": [
    "ds.head()"
   ]
  },
  {
   "cell_type": "code",
   "execution_count": 56,
   "id": "a93464d4",
   "metadata": {},
   "outputs": [],
   "source": [
    "import numpy as np\n",
    "\n",
    "dataset = [1,2,5,6,8,9,10,12,13]\n",
    "q1 = np.percentile(dataset,25)\n",
    "q2 = np.percentile(dataset,50)\n",
    "q3 = np.percentile(dataset,75)"
   ]
  },
  {
   "cell_type": "code",
   "execution_count": 57,
   "id": "8ca86670",
   "metadata": {},
   "outputs": [
    {
     "data": {
      "text/plain": [
       "5.0"
      ]
     },
     "execution_count": 57,
     "metadata": {},
     "output_type": "execute_result"
    }
   ],
   "source": [
    "q1"
   ]
  },
  {
   "cell_type": "code",
   "execution_count": 58,
   "id": "9fc61d11",
   "metadata": {},
   "outputs": [
    {
     "data": {
      "text/plain": [
       "8.0"
      ]
     },
     "execution_count": 58,
     "metadata": {},
     "output_type": "execute_result"
    }
   ],
   "source": [
    "q2"
   ]
  },
  {
   "cell_type": "code",
   "execution_count": 59,
   "id": "5b2f594d",
   "metadata": {},
   "outputs": [
    {
     "data": {
      "text/plain": [
       "10.0"
      ]
     },
     "execution_count": 59,
     "metadata": {},
     "output_type": "execute_result"
    }
   ],
   "source": [
    "q3"
   ]
  },
  {
   "cell_type": "code",
   "execution_count": 60,
   "id": "c5c87e60",
   "metadata": {},
   "outputs": [
    {
     "data": {
      "text/plain": [
       "5.0"
      ]
     },
     "execution_count": 60,
     "metadata": {},
     "output_type": "execute_result"
    }
   ],
   "source": [
    "IQR = q3-q1\n",
    "\n",
    "IQR"
   ]
  },
  {
   "cell_type": "code",
   "execution_count": null,
   "id": "58ffcb62",
   "metadata": {},
   "outputs": [],
   "source": []
  }
 ],
 "metadata": {
  "kernelspec": {
   "display_name": "Python 3",
   "language": "python",
   "name": "python3"
  },
  "language_info": {
   "codemirror_mode": {
    "name": "ipython",
    "version": 3
   },
   "file_extension": ".py",
   "mimetype": "text/x-python",
   "name": "python",
   "nbconvert_exporter": "python",
   "pygments_lexer": "ipython3",
   "version": "3.8.8"
  }
 },
 "nbformat": 4,
 "nbformat_minor": 5
}
